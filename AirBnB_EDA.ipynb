{
 "cells": [
  {
   "cell_type": "markdown",
   "metadata": {},
   "source": [
    "## AirB&B Exploratory Data Analysis"
   ]
  },
  {
   "cell_type": "code",
   "execution_count": 1,
   "metadata": {},
   "outputs": [],
   "source": [
    "from pyspark.context import SparkContext\n",
    "from pyspark.sql.session import SparkSession\n",
    "from pyspark.sql.types import StructType, DecimalType\n",
    "\n",
    "sc = SparkContext('local')\n",
    "spark = SparkSession(sc)"
   ]
  },
  {
   "cell_type": "code",
   "execution_count": 2,
   "metadata": {},
   "outputs": [],
   "source": [
    "\n",
    "format = StructType().add(\"neighbourhood\", \"string\").add(\"room_type\", \"string\").add(\"price\", \"integer\").add(\"minimum_nights\", \"integer\").add(\"availability_365\", \"integer\")\n",
    "df_Airbnb = spark.read.csv('/home/jovyan/work/MontrealAirBnB.csv', schema=format, header=\"true\")"
   ]
  },
  {
   "cell_type": "markdown",
   "metadata": {},
   "source": [
    "# Preliminary exploration\n",
    "We are aiming to get:\n",
    "\n",
    "    total number of offers,\n",
    "    average price of all offers\n",
    "    average minimum nights"
   ]
  },
  {
   "cell_type": "code",
   "execution_count": 3,
   "metadata": {},
   "outputs": [],
   "source": [
    "n_count = df_Airbnb.groupBy('neighbourhood').count().toDF('neighbourhood','count')"
   ]
  },
  {
   "cell_type": "code",
   "execution_count": 4,
   "metadata": {},
   "outputs": [
    {
     "data": {
      "text/plain": [
       "DataFrame[neighbourhood: string, count: bigint]"
      ]
     },
     "execution_count": 4,
     "metadata": {},
     "output_type": "execute_result"
    }
   ],
   "source": [
    "n_count"
   ]
  },
  {
   "cell_type": "code",
   "execution_count": 5,
   "metadata": {},
   "outputs": [],
   "source": [
    "n_avg_price = df_Airbnb.groupBy('neighbourhood').mean('price').toDF('neighbourhood','avg_price')\n",
    "n_avg_price = n_avg_price.withColumn('average_price' , n_avg_price[\"avg_price\"].cast(DecimalType(4,2)))\n",
    "n_avg_price = n_avg_price.drop('avg_price')"
   ]
  },
  {
   "cell_type": "code",
   "execution_count": 6,
   "metadata": {},
   "outputs": [
    {
     "data": {
      "text/plain": [
       "[Row(neighbourhood='Saint-Léonard', average_price=Decimal('89.51')),\n",
       " Row(neighbourhood='Rivière-des-Prairies-Pointe-aux-Trembles', average_price=None),\n",
       " Row(neighbourhood='Hampstead', average_price=None),\n",
       " Row(neighbourhood='Montréal-Est', average_price=Decimal('33.60')),\n",
       " Row(neighbourhood='Dorval', average_price=None),\n",
       " Row(neighbourhood='Le Plateau-Mont-Royal', average_price=None),\n",
       " Row(neighbourhood='Villeray-Saint-Michel-Parc-Extension', average_price=Decimal('75.45')),\n",
       " Row(neighbourhood='Côte-des-Neiges-Notre-Dame-de-Grâce', average_price=Decimal('88.69')),\n",
       " Row(neighbourhood='Outremont', average_price=None),\n",
       " Row(neighbourhood='Saint-Laurent', average_price=Decimal('92.17')),\n",
       " Row(neighbourhood='Dollard-des-Ormeaux', average_price=Decimal('98.88')),\n",
       " Row(neighbourhood='Ahuntsic-Cartierville', average_price=Decimal('78.86')),\n",
       " Row(neighbourhood=\"L'Île-Bizard-Sainte-Geneviève\", average_price=None),\n",
       " Row(neighbourhood='Verdun', average_price=Decimal('80.32')),\n",
       " Row(neighbourhood='Pierrefonds-Roxboro', average_price=None),\n",
       " Row(neighbourhood='Westmount', average_price=None),\n",
       " Row(neighbourhood='Anjou', average_price=Decimal('73.87')),\n",
       " Row(neighbourhood='Kirkland', average_price=Decimal('93.00')),\n",
       " Row(neighbourhood='Mercier-Hochelaga-Maisonneuve', average_price=Decimal('75.97')),\n",
       " Row(neighbourhood='Pointe-Claire', average_price=None),\n",
       " Row(neighbourhood='Senneville', average_price=None),\n",
       " Row(neighbourhood='Le Sud-Ouest', average_price=None),\n",
       " Row(neighbourhood='Ville-Marie', average_price=None),\n",
       " Row(neighbourhood=\"Baie-d'Urfé\", average_price=None),\n",
       " Row(neighbourhood='Montréal-Ouest', average_price=Decimal('86.82')),\n",
       " Row(neighbourhood='Sainte-Anne-de-Bellevue', average_price=Decimal('73.00')),\n",
       " Row(neighbourhood='LaSalle', average_price=Decimal('77.64')),\n",
       " Row(neighbourhood='Montréal-Nord', average_price=Decimal('62.46')),\n",
       " Row(neighbourhood='Côte-Saint-Luc', average_price=None),\n",
       " Row(neighbourhood='Mont-Royal', average_price=None),\n",
       " Row(neighbourhood='Beaconsfield', average_price=Decimal('59.13')),\n",
       " Row(neighbourhood='Lachine', average_price=Decimal('94.59')),\n",
       " Row(neighbourhood='Rosemont-La Petite-Patrie', average_price=Decimal('88.61'))]"
      ]
     },
     "execution_count": 6,
     "metadata": {},
     "output_type": "execute_result"
    }
   ],
   "source": [
    "n_avg_price.collect()"
   ]
  },
  {
   "cell_type": "code",
   "execution_count": 7,
   "metadata": {},
   "outputs": [],
   "source": [
    "n_avg_min_stay = df_Airbnb.groupBy('neighbourhood').mean('minimum_nights').toDF('neighbourhood','avg_min_stay')\n",
    "n_avg_min_stay = n_avg_min_stay.withColumn('average_min_stay' , n_avg_min_stay[\"avg_min_stay\"].cast(DecimalType(4,2)))\n",
    "n_avg_min_stay = n_avg_min_stay.drop('avg_min_stay')"
   ]
  },
  {
   "cell_type": "code",
   "execution_count": 8,
   "metadata": {},
   "outputs": [
    {
     "name": "stdout",
     "output_type": "stream",
     "text": [
      "+--------------------+----------------+\n",
      "|       neighbourhood|average_min_stay|\n",
      "+--------------------+----------------+\n",
      "|       Saint-Léonard|           14.75|\n",
      "|Rivière-des-Prair...|           13.24|\n",
      "|           Hampstead|           10.13|\n",
      "|        Montréal-Est|            6.80|\n",
      "|              Dorval|            7.46|\n",
      "|Le Plateau-Mont-R...|            6.57|\n",
      "|Villeray-Saint-Mi...|            7.15|\n",
      "|Côte-des-Neiges-N...|            9.16|\n",
      "|           Outremont|           20.58|\n",
      "|       Saint-Laurent|           12.29|\n",
      "| Dollard-des-Ormeaux|            3.65|\n",
      "|Ahuntsic-Cartierv...|            6.69|\n",
      "|L'Île-Bizard-Sain...|            2.95|\n",
      "|              Verdun|            7.20|\n",
      "| Pierrefonds-Roxboro|           11.45|\n",
      "|           Westmount|            8.10|\n",
      "|               Anjou|           11.11|\n",
      "|            Kirkland|            3.00|\n",
      "|Mercier-Hochelaga...|            8.11|\n",
      "|       Pointe-Claire|            3.64|\n",
      "+--------------------+----------------+\n",
      "only showing top 20 rows\n",
      "\n"
     ]
    }
   ],
   "source": [
    "n_avg_min_stay.show()"
   ]
  },
  {
   "cell_type": "code",
   "execution_count": 9,
   "metadata": {},
   "outputs": [],
   "source": [
    "df_Airbnb_p = n_count.join(n_avg_price, [\"neighbourhood\"])\n",
    "df_Airbnb_p = df_Airbnb_p.join(n_avg_min_stay,[\"neighbourhood\"])"
   ]
  },
  {
   "cell_type": "code",
   "execution_count": 10,
   "metadata": {
    "scrolled": true
   },
   "outputs": [
    {
     "name": "stdout",
     "output_type": "stream",
     "text": [
      "+--------------------+-----+-------------+----------------+\n",
      "|       neighbourhood|count|average_price|average_min_stay|\n",
      "+--------------------+-----+-------------+----------------+\n",
      "|       Saint-Léonard|   55|        89.51|           14.75|\n",
      "|Rivière-des-Prair...|   68|         null|           13.24|\n",
      "|           Hampstead|   23|         null|           10.13|\n",
      "|        Montréal-Est|    5|        33.60|            6.80|\n",
      "|              Dorval|   63|         null|            7.46|\n",
      "|Le Plateau-Mont-R...| 5616|         null|            6.57|\n",
      "|Villeray-Saint-Mi...| 1081|        75.45|            7.15|\n",
      "|Côte-des-Neiges-N...| 1284|        88.69|            9.16|\n",
      "|           Outremont|  271|         null|           20.58|\n",
      "|       Saint-Laurent|  173|        92.17|           12.29|\n",
      "| Dollard-des-Ormeaux|   43|        98.88|            3.65|\n",
      "|Ahuntsic-Cartierv...|  310|        78.86|            6.69|\n",
      "|L'Île-Bizard-Sain...|   20|         null|            2.95|\n",
      "|              Verdun|  473|        80.32|            7.20|\n",
      "| Pierrefonds-Roxboro|   53|         null|           11.45|\n",
      "|           Westmount|  106|         null|            8.10|\n",
      "|               Anjou|   53|        73.87|           11.11|\n",
      "|            Kirkland|   10|        93.00|            3.00|\n",
      "|Mercier-Hochelaga...|  925|        75.97|            8.11|\n",
      "|       Pointe-Claire|   53|         null|            3.64|\n",
      "+--------------------+-----+-------------+----------------+\n",
      "only showing top 20 rows\n",
      "\n"
     ]
    }
   ],
   "source": [
    "df_Airbnb_p.show()"
   ]
  },
  {
   "cell_type": "code",
   "execution_count": 11,
   "metadata": {},
   "outputs": [],
   "source": [
    "n_home = df_Airbnb.stat.crosstab(\"neighbourhood\",\"room_type\")"
   ]
  }
 ],
 "metadata": {
  "kernelspec": {
   "display_name": "Python 3",
   "language": "python",
   "name": "python3"
  },
  "language_info": {
   "codemirror_mode": {
    "name": "ipython",
    "version": 3
   },
   "file_extension": ".py",
   "mimetype": "text/x-python",
   "name": "python",
   "nbconvert_exporter": "python",
   "pygments_lexer": "ipython3",
   "version": "3.6.7"
  }
 },
 "nbformat": 4,
 "nbformat_minor": 2
}
